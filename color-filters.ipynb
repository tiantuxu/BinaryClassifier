{
 "cells": [
  {
   "cell_type": "code",
   "execution_count": 1,
   "metadata": {},
   "outputs": [],
   "source": [
    "import numpy as np\n",
    "import cv2\n",
    "import time"
   ]
  },
  {
   "cell_type": "code",
   "execution_count": 8,
   "metadata": {},
   "outputs": [
    {
     "name": "stdout",
     "output_type": "stream",
     "text": [
      "475.485262499 fps\n"
     ]
    }
   ],
   "source": [
    "cap = cv2.VideoCapture('../test-720.mp4')\n",
    "i = 0\n",
    "t = 0.0\n",
    "TOTAL_NUM_FRAMES = 1000\n",
    "\n",
    "while(i < TOTAL_NUM_FRAMES):\n",
    "    _, frame = cap.read()\n",
    "\n",
    "    if _ is True:\n",
    "        hsv = cv2.cvtColor(frame, cv2.COLOR_BGR2HSV)\n",
    "    else:\n",
    "        continue\n",
    "    \n",
    "    lower_red = np.array([150,150,150])\n",
    "    upper_red = np.array([255,255,255])\n",
    "    \n",
    "    start = time.time()\n",
    "    mask = cv2.inRange(hsv, lower_red, upper_red)\n",
    "    res = cv2.bitwise_and(frame,frame, mask= mask)\n",
    "    end = time.time()\n",
    "\n",
    "    #cv2.imshow('frame',frame)\n",
    "    #cv2.imshow('mask',mask)\n",
    "    #cv2.imshow('res',res)\n",
    "    i += 1\n",
    "    t += end - start\n",
    "    \n",
    "\n",
    "print TOTAL_NUM_FRAMES/(t), \"fps\"\n",
    "cap.release()"
   ]
  },
  {
   "cell_type": "code",
   "execution_count": null,
   "metadata": {},
   "outputs": [],
   "source": []
  }
 ],
 "metadata": {
  "kernelspec": {
   "display_name": "Python 2",
   "language": "python",
   "name": "python2"
  },
  "language_info": {
   "codemirror_mode": {
    "name": "ipython",
    "version": 2
   },
   "file_extension": ".py",
   "mimetype": "text/x-python",
   "name": "python",
   "nbconvert_exporter": "python",
   "pygments_lexer": "ipython2",
   "version": "2.7.12"
  }
 },
 "nbformat": 4,
 "nbformat_minor": 2
}
